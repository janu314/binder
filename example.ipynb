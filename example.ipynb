import pandas as pd
import matplotlib.pyplot as plt

# Generate sample data
data = {
    'Year': [2010, 2011, 2012, 2013, 2014],
    'Sales': [100, 150, 200, 250, 300]
}

df = pd.DataFrame(data)

# Plotting
plt.plot(df['Year'], df['Sales'])
plt.xlabel('Year')
plt.ylabel('Sales')
plt.title('Sales Over Time')
plt.grid(True)
plt.show()

# Displaying DataFrame
df

